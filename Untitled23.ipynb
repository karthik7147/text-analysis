{
  "nbformat": 4,
  "nbformat_minor": 0,
  "metadata": {
    "colab": {
      "provenance": [],
      "gpuType": "T4"
    },
    "kernelspec": {
      "name": "python3",
      "display_name": "Python 3"
    },
    "language_info": {
      "name": "python"
    },
    "accelerator": "GPU"
  },
  "cells": [
    {
      "cell_type": "code",
      "execution_count": null,
      "metadata": {
        "id": "zz-NMBWL2NwW"
      },
      "outputs": [],
      "source": []
    },
    {
      "cell_type": "markdown",
      "source": [],
      "metadata": {
        "id": "1O8HjZT4t9WC"
      }
    },
    {
      "cell_type": "code",
      "source": [],
      "metadata": {
        "id": "0qZ7SpyK2wtq",
        "colab": {
          "base_uri": "https://localhost:8080/"
        },
        "outputId": "d8a8d3b5-1890-4bfa-befa-96df7d021ff3"
      },
      "execution_count": 5,
      "outputs": [
        {
          "output_type": "stream",
          "name": "stderr",
          "text": [
            "[nltk_data] Downloading package punkt_tab to /root/nltk_data...\n",
            "[nltk_data]   Package punkt_tab is already up-to-date!\n",
            "[nltk_data] Downloading package punkt to /root/nltk_data...\n",
            "[nltk_data]   Package punkt is already up-to-date!\n",
            "[nltk_data] Downloading package wordnet to /root/nltk_data...\n",
            "[nltk_data]   Package wordnet is already up-to-date!\n",
            "[nltk_data] Downloading package omw-1.4 to /root/nltk_data...\n",
            "[nltk_data]   Package omw-1.4 is already up-to-date!\n"
          ]
        },
        {
          "output_type": "stream",
          "name": "stdout",
          "text": [
            "Analysis saved to /content/Output Data Structure.xlsx\n"
          ]
        }
      ]
    },
    {
      "cell_type": "code",
      "source": [],
      "metadata": {
        "colab": {
          "base_uri": "https://localhost:8080/"
        },
        "id": "nweSE--Zw3fh",
        "outputId": "d6f47ae0-b780-401f-d405-b2392f1f0d4e"
      },
      "execution_count": 3,
      "outputs": [
        {
          "output_type": "stream",
          "name": "stderr",
          "text": [
            "[nltk_data] Downloading package punkt_tab to /root/nltk_data...\n",
            "[nltk_data]   Unzipping tokenizers/punkt_tab.zip.\n",
            "[nltk_data] Downloading package punkt to /root/nltk_data...\n",
            "[nltk_data]   Package punkt is already up-to-date!\n",
            "[nltk_data] Downloading package wordnet to /root/nltk_data...\n",
            "[nltk_data] Downloading package omw-1.4 to /root/nltk_data...\n"
          ]
        },
        {
          "output_type": "execute_result",
          "data": {
            "text/plain": [
              "True"
            ]
          },
          "metadata": {},
          "execution_count": 3
        }
      ]
    },
    {
      "cell_type": "code",
      "source": [
        "!pip install textstat\n",
        "import pandas as pd\n",
        "import requests\n",
        "from bs4 import BeautifulSoup\n",
        "from nltk.tokenize import sent_tokenize, word_tokenize\n",
        "from textblob import TextBlob\n",
        "import textstat\n",
        "import re\n",
        "import nltk\n",
        "nltk.download('punkt_tab')\n",
        "nltk.download('punkt')\n",
        "nltk.download('wordnet')\n",
        "nltk.download('omw-1.4')\n",
        "\n",
        "def load_words(file_path, encoding='ISO-8859-1'):\n",
        "    \"\"\"Load words from a file into a set.\"\"\"\n",
        "    try:\n",
        "        with open(file_path, 'r', encoding=encoding) as file:\n",
        "            words = {line.strip() for line in file if line.strip()}\n",
        "        return words\n",
        "    except Exception as e:\n",
        "        print(f\"Error loading words from {file_path}: {e}\")\n",
        "        return set()\n",
        "\n",
        "# Load positive and negative words\n",
        "positive_words = load_words('/content/positive-words.txt')\n",
        "negative_words = load_words('/content/negative-words.txt')\n",
        "\n",
        "def extract_article(url):\n",
        "    \"\"\"Extracts article title and content from a given URL.\"\"\"\n",
        "    try:\n",
        "        response = requests.get(url, timeout=10)\n",
        "        soup = BeautifulSoup(response.content, 'html.parser')\n",
        "\n",
        "        title = soup.find('h1').get_text(strip=True) if soup.find('h1') else \"No Title Found\"\n",
        "        content_div = soup.find('div', class_='article-body') or soup.find('main') or soup.body\n",
        "        content = content_div.get_text(strip=True) if content_div else \"No Content Found\"\n",
        "\n",
        "        return title, content\n",
        "    except Exception as e:\n",
        "        print(f\"Error extracting {url}: {e}\")\n",
        "        return \"Error\", \"Error\"\n",
        "\n",
        "def analyze_text(text):\n",
        "    \"\"\"Analyze the text using Python libraries.\"\"\"\n",
        "    metrics = {}\n",
        "\n",
        "    try:\n",
        "        # Word and sentence tokenization\n",
        "        words = word_tokenize(text.lower())\n",
        "        sentences = sent_tokenize(text)\n",
        "\n",
        "        word_count = len(words)\n",
        "        sentence_count = len(sentences)\n",
        "        avg_sentence_length = word_count / sentence_count if sentence_count else 0\n",
        "\n",
        "        # Polarity and subjectivity using TextBlob\n",
        "        blob = TextBlob(text)\n",
        "        polarity = blob.sentiment.polarity\n",
        "        subjectivity = blob.sentiment.subjectivity\n",
        "\n",
        "        # Complex words and readability\n",
        "        complex_word_count = sum([1 for word in words if textstat.syllable_count(word) >= 3])\n",
        "        percentage_complex_words = (complex_word_count / word_count * 100) if word_count else 0\n",
        "        fog_index = textstat.gunning_fog(text)\n",
        "        syllable_per_word = textstat.syllable_count(text) / word_count if word_count else 0\n",
        "        avg_word_length = sum(len(word) for word in words) / word_count if word_count else 0\n",
        "\n",
        "        # Positive and negative word counts\n",
        "        positive_score = sum(1 for word in words if word in positive_words)\n",
        "        negative_score = sum(1 for word in words if word in negative_words)\n",
        "\n",
        "        # Personal pronouns\n",
        "        personal_pronouns = len(re.findall(r'\\b(I|we|me|us|my|ours|mine|our)\\b', text, re.IGNORECASE))\n",
        "\n",
        "        # Metrics calculation\n",
        "        metrics[\"Polarity Score\"] = polarity\n",
        "        metrics[\"Subjectivity Score\"] = subjectivity\n",
        "        metrics[\"Average Sentence Length\"] = avg_sentence_length\n",
        "        metrics[\"Percentage of Complex Words\"] = percentage_complex_words\n",
        "        metrics[\"Fog Index\"] = fog_index\n",
        "        metrics[\"Word Count\"] = word_count\n",
        "        metrics[\"Complex Word Count\"] = complex_word_count\n",
        "        metrics[\"Syllable Per Word\"] = syllable_per_word\n",
        "        metrics[\"Average Word Length\"] = avg_word_length\n",
        "        metrics[\"Positive Score\"] = positive_score\n",
        "        metrics[\"Negative Score\"] = negative_score\n",
        "        metrics[\"Personal Pronouns\"] = personal_pronouns\n",
        "    except Exception as e:\n",
        "        print(f\"Error analyzing text: {e}\")\n",
        "        metrics = {key: \"Error\" for key in [\n",
        "            \"Polarity Score\", \"Subjectivity Score\", \"Average Sentence Length\", \"Percentage of Complex Words\",\n",
        "            \"Fog Index\", \"Word Count\", \"Complex Word Count\", \"Syllable Per Word\", \"Average Word Length\",\n",
        "            \"Positive Score\", \"Negative Score\", \"Personal Pronouns\"\n",
        "        ]}\n",
        "    return metrics\n",
        "\n",
        "def main():\n",
        "    # File paths\n",
        "    input_file = \"/content/Input.xlsx\"  # Replace with your actual input file path\n",
        "    output_file = \"/content/Generated_Output.xlsx\"  # Path for the new file to be created\n",
        "\n",
        "    # Read input data\n",
        "    try:\n",
        "        input_data = pd.read_excel(input_file)\n",
        "    except Exception as e:\n",
        "        print(f\"Error reading input file: {e}\")\n",
        "        return\n",
        "\n",
        "    results = []\n",
        "\n",
        "    for _, row in input_data.iterrows():\n",
        "        url_id = row.get('URL_ID')\n",
        "        url = row.get('URL')\n",
        "\n",
        "        if not url or pd.isna(url):\n",
        "            print(f\"Invalid URL for URL_ID {url_id}\")\n",
        "            continue\n",
        "\n",
        "        # Extract article content\n",
        "        title, content = extract_article(url)\n",
        "\n",
        "        if content == \"Error\":\n",
        "            print(f\"Skipping URL_ID {url_id} due to extraction issues.\")\n",
        "            continue\n",
        "\n",
        "        # Analyze the content\n",
        "        metrics = analyze_text(content)\n",
        "        metrics['URL_ID'] = url_id\n",
        "        metrics['Title'] = title  # Add the extracted title for context\n",
        "        results.append(metrics)\n",
        "\n",
        "    # Convert results to a DataFrame\n",
        "    result_df = pd.DataFrame(results)\n",
        "\n",
        "    # Save the results to a new Excel file\n",
        "    try:\n",
        "        result_df.to_excel(output_file, index=False)\n",
        "        print(f\"Analysis saved to {output_file}\")\n",
        "    except Exception as e:\n",
        "        print(f\"Error saving results: {e}\")\n",
        "        return\n",
        "\n",
        "    # Provide download link in Colab\n",
        "    from google.colab import files\n",
        "    files.download(output_file)\n",
        "\n",
        "if __name__ == \"__main__\":\n",
        "    main()\n"
      ],
      "metadata": {
        "colab": {
          "base_uri": "https://localhost:8080/",
          "height": 225
        },
        "id": "7o8-rm-N4L24",
        "outputId": "5504fdea-38a9-4678-e428-6dc577a0cb93"
      },
      "execution_count": 4,
      "outputs": [
        {
          "output_type": "stream",
          "name": "stdout",
          "text": [
            "Requirement already satisfied: textstat in /usr/local/lib/python3.10/dist-packages (0.7.4)\n",
            "Requirement already satisfied: pyphen in /usr/local/lib/python3.10/dist-packages (from textstat) (0.17.0)\n",
            "Requirement already satisfied: setuptools in /usr/local/lib/python3.10/dist-packages (from textstat) (75.1.0)\n"
          ]
        },
        {
          "output_type": "stream",
          "name": "stderr",
          "text": [
            "[nltk_data] Downloading package punkt_tab to /root/nltk_data...\n",
            "[nltk_data]   Package punkt_tab is already up-to-date!\n",
            "[nltk_data] Downloading package punkt to /root/nltk_data...\n",
            "[nltk_data]   Package punkt is already up-to-date!\n",
            "[nltk_data] Downloading package wordnet to /root/nltk_data...\n",
            "[nltk_data]   Package wordnet is already up-to-date!\n",
            "[nltk_data] Downloading package omw-1.4 to /root/nltk_data...\n",
            "[nltk_data]   Package omw-1.4 is already up-to-date!\n"
          ]
        },
        {
          "output_type": "stream",
          "name": "stdout",
          "text": [
            "Analysis saved to /content/Generated_Output.xlsx\n"
          ]
        },
        {
          "output_type": "display_data",
          "data": {
            "text/plain": [
              "<IPython.core.display.Javascript object>"
            ],
            "application/javascript": [
              "\n",
              "    async function download(id, filename, size) {\n",
              "      if (!google.colab.kernel.accessAllowed) {\n",
              "        return;\n",
              "      }\n",
              "      const div = document.createElement('div');\n",
              "      const label = document.createElement('label');\n",
              "      label.textContent = `Downloading \"${filename}\": `;\n",
              "      div.appendChild(label);\n",
              "      const progress = document.createElement('progress');\n",
              "      progress.max = size;\n",
              "      div.appendChild(progress);\n",
              "      document.body.appendChild(div);\n",
              "\n",
              "      const buffers = [];\n",
              "      let downloaded = 0;\n",
              "\n",
              "      const channel = await google.colab.kernel.comms.open(id);\n",
              "      // Send a message to notify the kernel that we're ready.\n",
              "      channel.send({})\n",
              "\n",
              "      for await (const message of channel.messages) {\n",
              "        // Send a message to notify the kernel that we're ready.\n",
              "        channel.send({})\n",
              "        if (message.buffers) {\n",
              "          for (const buffer of message.buffers) {\n",
              "            buffers.push(buffer);\n",
              "            downloaded += buffer.byteLength;\n",
              "            progress.value = downloaded;\n",
              "          }\n",
              "        }\n",
              "      }\n",
              "      const blob = new Blob(buffers, {type: 'application/binary'});\n",
              "      const a = document.createElement('a');\n",
              "      a.href = window.URL.createObjectURL(blob);\n",
              "      a.download = filename;\n",
              "      div.appendChild(a);\n",
              "      a.click();\n",
              "      div.remove();\n",
              "    }\n",
              "  "
            ]
          },
          "metadata": {}
        },
        {
          "output_type": "display_data",
          "data": {
            "text/plain": [
              "<IPython.core.display.Javascript object>"
            ],
            "application/javascript": [
              "download(\"download_092bd951-6315-4b33-b156-6d16ad52e1d5\", \"Generated_Output.xlsx\", 27084)"
            ]
          },
          "metadata": {}
        }
      ]
    }
  ]
}